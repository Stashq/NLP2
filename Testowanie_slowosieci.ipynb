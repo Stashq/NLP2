{
 "cells": [
  {
   "cell_type": "code",
   "execution_count": 3,
   "metadata": {},
   "outputs": [],
   "source": [
    "import plwn\n",
    "res = plwn.download()"
   ]
  },
  {
   "cell_type": "markdown",
   "metadata": {},
   "source": [
    "PLWN pobrane z:  \n",
    "http://pypi.clarin-pl.eu/simple/plwn-api/\n",
    "\n",
    "Instrukcja obsługi:  \n",
    "https://gitlab.clarin-pl.eu/libraries/plwn_api  \n",
    "Nie trzeba tworzyć bazy danych, wystarcyz zainstalować PLWN, pobrać model BD przy pomocy funkcji \"download()\" załadować i załadować go funkcją \"load()\".  \n"
   ]
  },
  {
   "cell_type": "code",
   "execution_count": 12,
   "metadata": {},
   "outputs": [
    {
     "name": "stdout",
     "output_type": "stream",
     "text": [
      "pies.2(21:zw)\n",
      "pies domowy - popularne zwierzę domowe, przyjaciel człowieka.\n"
     ]
    }
   ],
   "source": [
    "wn = plwn.load(\"default_model\")\n",
    "lex = wn.lexical_unit('pies', plwn.PoS.noun_pl, 2)\n",
    "print(lex)\n",
    "print(lex.definition)"
   ]
  },
  {
   "cell_type": "code",
   "execution_count": 10,
   "metadata": {},
   "outputs": [
    {
     "data": {
      "text/plain": [
       "['_PLWordNet__check_db',\n",
       " '_PLWordNet__drop_tmpdir',\n",
       " '_PLWordNet__init_db',\n",
       " '_PLWordNet__read_data',\n",
       " '_PLWordNet__syn_edges_noskip',\n",
       " '_PLWordNet__syn_edges_withskip',\n",
       " '_SCHEMA_VERSION',\n",
       " '_STORAGE_NAME',\n",
       " '__abstractmethods__',\n",
       " '__class__',\n",
       " '__delattr__',\n",
       " '__dict__',\n",
       " '__dir__',\n",
       " '__doc__',\n",
       " '__eq__',\n",
       " '__format__',\n",
       " '__ge__',\n",
       " '__getattribute__',\n",
       " '__gt__',\n",
       " '__hash__',\n",
       " '__init__',\n",
       " '__init_subclass__',\n",
       " '__le__',\n",
       " '__lt__',\n",
       " '__module__',\n",
       " '__ne__',\n",
       " '__new__',\n",
       " '__reduce__',\n",
       " '__reduce_ex__',\n",
       " '__repr__',\n",
       " '__setattr__',\n",
       " '__sizeof__',\n",
       " '__str__',\n",
       " '__subclasshook__',\n",
       " '__weakref__',\n",
       " '_abc_impl',\n",
       " '_db',\n",
       " '_get_one_lexical_unit',\n",
       " '_relcache',\n",
       " '_select_lexical_units',\n",
       " '_tmp_dir',\n",
       " 'close',\n",
       " 'from_dump',\n",
       " 'from_reader',\n",
       " 'lexical_relation_edges',\n",
       " 'lexical_unit',\n",
       " 'lexical_unit_by_id',\n",
       " 'lexical_units',\n",
       " 'relations_info',\n",
       " 'synset',\n",
       " 'synset_by_id',\n",
       " 'synset_relation_edges',\n",
       " 'synsets',\n",
       " 'to_graphml']"
      ]
     },
     "execution_count": 10,
     "metadata": {},
     "output_type": "execute_result"
    }
   ],
   "source": []
  },
  {
   "cell_type": "code",
   "execution_count": null,
   "metadata": {},
   "outputs": [],
   "source": []
  }
 ],
 "metadata": {
  "kernelspec": {
   "display_name": "Python 3",
   "language": "python",
   "name": "python3"
  },
  "language_info": {
   "codemirror_mode": {
    "name": "ipython",
    "version": 3
   },
   "file_extension": ".py",
   "mimetype": "text/x-python",
   "name": "python",
   "nbconvert_exporter": "python",
   "pygments_lexer": "ipython3",
   "version": "3.7.6"
  }
 },
 "nbformat": 4,
 "nbformat_minor": 4
}
