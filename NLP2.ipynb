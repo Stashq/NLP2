{
  "nbformat": 4,
  "nbformat_minor": 0,
  "metadata": {
    "colab": {
      "name": "NLP2.ipynb",
      "provenance": [],
      "collapsed_sections": [
        "0si7_ZmJVbAZ",
        "QFBnGHYtVjdZ"
      ]
    },
    "kernelspec": {
      "name": "python3",
      "display_name": "Python 3"
    },
    "widgets": {
      "application/vnd.jupyter.widget-state+json": {
        "bcddbe2d290949b9a69930d6e9d3e36e": {
          "model_module": "@jupyter-widgets/controls",
          "model_name": "HBoxModel",
          "state": {
            "_view_name": "HBoxView",
            "_dom_classes": [],
            "_model_name": "HBoxModel",
            "_view_module": "@jupyter-widgets/controls",
            "_model_module_version": "1.5.0",
            "_view_count": null,
            "_view_module_version": "1.5.0",
            "box_style": "",
            "layout": "IPY_MODEL_184d399ddd8a4464a820f81fa96c607b",
            "_model_module": "@jupyter-widgets/controls",
            "children": [
              "IPY_MODEL_4350ca093aca4c3da43a683bf9d30881",
              "IPY_MODEL_790dafdf41ed4f5d8bda48ae0a24bd8b"
            ]
          }
        },
        "184d399ddd8a4464a820f81fa96c607b": {
          "model_module": "@jupyter-widgets/base",
          "model_name": "LayoutModel",
          "state": {
            "_view_name": "LayoutView",
            "grid_template_rows": null,
            "right": null,
            "justify_content": null,
            "_view_module": "@jupyter-widgets/base",
            "overflow": null,
            "_model_module_version": "1.2.0",
            "_view_count": null,
            "flex_flow": null,
            "width": null,
            "min_width": null,
            "border": null,
            "align_items": null,
            "bottom": null,
            "_model_module": "@jupyter-widgets/base",
            "top": null,
            "grid_column": null,
            "overflow_y": null,
            "overflow_x": null,
            "grid_auto_flow": null,
            "grid_area": null,
            "grid_template_columns": null,
            "flex": null,
            "_model_name": "LayoutModel",
            "justify_items": null,
            "grid_row": null,
            "max_height": null,
            "align_content": null,
            "visibility": null,
            "align_self": null,
            "height": null,
            "min_height": null,
            "padding": null,
            "grid_auto_rows": null,
            "grid_gap": null,
            "max_width": null,
            "order": null,
            "_view_module_version": "1.2.0",
            "grid_template_areas": null,
            "object_position": null,
            "object_fit": null,
            "grid_auto_columns": null,
            "margin": null,
            "display": null,
            "left": null
          }
        },
        "4350ca093aca4c3da43a683bf9d30881": {
          "model_module": "@jupyter-widgets/controls",
          "model_name": "FloatProgressModel",
          "state": {
            "_view_name": "ProgressView",
            "style": "IPY_MODEL_7f444591f0fe4b2785126143dd7bd2bd",
            "_dom_classes": [],
            "description": "",
            "_model_name": "FloatProgressModel",
            "bar_style": "success",
            "max": 1,
            "_view_module": "@jupyter-widgets/controls",
            "_model_module_version": "1.5.0",
            "value": 1,
            "_view_count": null,
            "_view_module_version": "1.5.0",
            "orientation": "horizontal",
            "min": 0,
            "description_tooltip": null,
            "_model_module": "@jupyter-widgets/controls",
            "layout": "IPY_MODEL_8be5ac4996a944a492bfa7c6c523da56"
          }
        },
        "790dafdf41ed4f5d8bda48ae0a24bd8b": {
          "model_module": "@jupyter-widgets/controls",
          "model_name": "HTMLModel",
          "state": {
            "_view_name": "HTMLView",
            "style": "IPY_MODEL_af9feec743374cc5b7f085cf0688da0f",
            "_dom_classes": [],
            "description": "",
            "_model_name": "HTMLModel",
            "placeholder": "​",
            "_view_module": "@jupyter-widgets/controls",
            "_model_module_version": "1.5.0",
            "value": " 1549323/? [00:35&lt;00:00, 43953.79it/s]",
            "_view_count": null,
            "_view_module_version": "1.5.0",
            "description_tooltip": null,
            "_model_module": "@jupyter-widgets/controls",
            "layout": "IPY_MODEL_44e5aacf09194e9d8e5854717b266f10"
          }
        },
        "7f444591f0fe4b2785126143dd7bd2bd": {
          "model_module": "@jupyter-widgets/controls",
          "model_name": "ProgressStyleModel",
          "state": {
            "_view_name": "StyleView",
            "_model_name": "ProgressStyleModel",
            "description_width": "initial",
            "_view_module": "@jupyter-widgets/base",
            "_model_module_version": "1.5.0",
            "_view_count": null,
            "_view_module_version": "1.2.0",
            "bar_color": null,
            "_model_module": "@jupyter-widgets/controls"
          }
        },
        "8be5ac4996a944a492bfa7c6c523da56": {
          "model_module": "@jupyter-widgets/base",
          "model_name": "LayoutModel",
          "state": {
            "_view_name": "LayoutView",
            "grid_template_rows": null,
            "right": null,
            "justify_content": null,
            "_view_module": "@jupyter-widgets/base",
            "overflow": null,
            "_model_module_version": "1.2.0",
            "_view_count": null,
            "flex_flow": null,
            "width": null,
            "min_width": null,
            "border": null,
            "align_items": null,
            "bottom": null,
            "_model_module": "@jupyter-widgets/base",
            "top": null,
            "grid_column": null,
            "overflow_y": null,
            "overflow_x": null,
            "grid_auto_flow": null,
            "grid_area": null,
            "grid_template_columns": null,
            "flex": null,
            "_model_name": "LayoutModel",
            "justify_items": null,
            "grid_row": null,
            "max_height": null,
            "align_content": null,
            "visibility": null,
            "align_self": null,
            "height": null,
            "min_height": null,
            "padding": null,
            "grid_auto_rows": null,
            "grid_gap": null,
            "max_width": null,
            "order": null,
            "_view_module_version": "1.2.0",
            "grid_template_areas": null,
            "object_position": null,
            "object_fit": null,
            "grid_auto_columns": null,
            "margin": null,
            "display": null,
            "left": null
          }
        },
        "af9feec743374cc5b7f085cf0688da0f": {
          "model_module": "@jupyter-widgets/controls",
          "model_name": "DescriptionStyleModel",
          "state": {
            "_view_name": "StyleView",
            "_model_name": "DescriptionStyleModel",
            "description_width": "",
            "_view_module": "@jupyter-widgets/base",
            "_model_module_version": "1.5.0",
            "_view_count": null,
            "_view_module_version": "1.2.0",
            "_model_module": "@jupyter-widgets/controls"
          }
        },
        "44e5aacf09194e9d8e5854717b266f10": {
          "model_module": "@jupyter-widgets/base",
          "model_name": "LayoutModel",
          "state": {
            "_view_name": "LayoutView",
            "grid_template_rows": null,
            "right": null,
            "justify_content": null,
            "_view_module": "@jupyter-widgets/base",
            "overflow": null,
            "_model_module_version": "1.2.0",
            "_view_count": null,
            "flex_flow": null,
            "width": null,
            "min_width": null,
            "border": null,
            "align_items": null,
            "bottom": null,
            "_model_module": "@jupyter-widgets/base",
            "top": null,
            "grid_column": null,
            "overflow_y": null,
            "overflow_x": null,
            "grid_auto_flow": null,
            "grid_area": null,
            "grid_template_columns": null,
            "flex": null,
            "_model_name": "LayoutModel",
            "justify_items": null,
            "grid_row": null,
            "max_height": null,
            "align_content": null,
            "visibility": null,
            "align_self": null,
            "height": null,
            "min_height": null,
            "padding": null,
            "grid_auto_rows": null,
            "grid_gap": null,
            "max_width": null,
            "order": null,
            "_view_module_version": "1.2.0",
            "grid_template_areas": null,
            "object_position": null,
            "object_fit": null,
            "grid_auto_columns": null,
            "margin": null,
            "display": null,
            "left": null
          }
        },
        "4d997918927e4619bcd544f6c2737841": {
          "model_module": "@jupyter-widgets/controls",
          "model_name": "HBoxModel",
          "state": {
            "_view_name": "HBoxView",
            "_dom_classes": [],
            "_model_name": "HBoxModel",
            "_view_module": "@jupyter-widgets/controls",
            "_model_module_version": "1.5.0",
            "_view_count": null,
            "_view_module_version": "1.5.0",
            "box_style": "",
            "layout": "IPY_MODEL_6b8826de6e0444c0a8aaee57e515336c",
            "_model_module": "@jupyter-widgets/controls",
            "children": [
              "IPY_MODEL_a48a3754b9684803ab8f77ad7dee6812",
              "IPY_MODEL_36dd1b87a4e845b78ed0836a0f32fad6"
            ]
          }
        },
        "6b8826de6e0444c0a8aaee57e515336c": {
          "model_module": "@jupyter-widgets/base",
          "model_name": "LayoutModel",
          "state": {
            "_view_name": "LayoutView",
            "grid_template_rows": null,
            "right": null,
            "justify_content": null,
            "_view_module": "@jupyter-widgets/base",
            "overflow": null,
            "_model_module_version": "1.2.0",
            "_view_count": null,
            "flex_flow": null,
            "width": null,
            "min_width": null,
            "border": null,
            "align_items": null,
            "bottom": null,
            "_model_module": "@jupyter-widgets/base",
            "top": null,
            "grid_column": null,
            "overflow_y": null,
            "overflow_x": null,
            "grid_auto_flow": null,
            "grid_area": null,
            "grid_template_columns": null,
            "flex": null,
            "_model_name": "LayoutModel",
            "justify_items": null,
            "grid_row": null,
            "max_height": null,
            "align_content": null,
            "visibility": null,
            "align_self": null,
            "height": null,
            "min_height": null,
            "padding": null,
            "grid_auto_rows": null,
            "grid_gap": null,
            "max_width": null,
            "order": null,
            "_view_module_version": "1.2.0",
            "grid_template_areas": null,
            "object_position": null,
            "object_fit": null,
            "grid_auto_columns": null,
            "margin": null,
            "display": null,
            "left": null
          }
        },
        "a48a3754b9684803ab8f77ad7dee6812": {
          "model_module": "@jupyter-widgets/controls",
          "model_name": "FloatProgressModel",
          "state": {
            "_view_name": "ProgressView",
            "style": "IPY_MODEL_ab079e7f286240cdafdda3f36f00f9af",
            "_dom_classes": [],
            "description": "",
            "_model_name": "FloatProgressModel",
            "bar_style": "success",
            "max": 1,
            "_view_module": "@jupyter-widgets/controls",
            "_model_module_version": "1.5.0",
            "value": 1,
            "_view_count": null,
            "_view_module_version": "1.5.0",
            "orientation": "horizontal",
            "min": 0,
            "description_tooltip": null,
            "_model_module": "@jupyter-widgets/controls",
            "layout": "IPY_MODEL_643484164d2e498ab1c5bdd187c594dd"
          }
        },
        "36dd1b87a4e845b78ed0836a0f32fad6": {
          "model_module": "@jupyter-widgets/controls",
          "model_name": "HTMLModel",
          "state": {
            "_view_name": "HTMLView",
            "style": "IPY_MODEL_9827956ad50a4e0ba5c2e787d2e1e6d8",
            "_dom_classes": [],
            "description": "",
            "_model_name": "HTMLModel",
            "placeholder": "​",
            "_view_module": "@jupyter-widgets/controls",
            "_model_module_version": "1.5.0",
            "value": " 999/? [16:38&lt;00:00,  1.00it/s]",
            "_view_count": null,
            "_view_module_version": "1.5.0",
            "description_tooltip": null,
            "_model_module": "@jupyter-widgets/controls",
            "layout": "IPY_MODEL_596d1021558740e0be3e495d4b362327"
          }
        },
        "ab079e7f286240cdafdda3f36f00f9af": {
          "model_module": "@jupyter-widgets/controls",
          "model_name": "ProgressStyleModel",
          "state": {
            "_view_name": "StyleView",
            "_model_name": "ProgressStyleModel",
            "description_width": "initial",
            "_view_module": "@jupyter-widgets/base",
            "_model_module_version": "1.5.0",
            "_view_count": null,
            "_view_module_version": "1.2.0",
            "bar_color": null,
            "_model_module": "@jupyter-widgets/controls"
          }
        },
        "643484164d2e498ab1c5bdd187c594dd": {
          "model_module": "@jupyter-widgets/base",
          "model_name": "LayoutModel",
          "state": {
            "_view_name": "LayoutView",
            "grid_template_rows": null,
            "right": null,
            "justify_content": null,
            "_view_module": "@jupyter-widgets/base",
            "overflow": null,
            "_model_module_version": "1.2.0",
            "_view_count": null,
            "flex_flow": null,
            "width": null,
            "min_width": null,
            "border": null,
            "align_items": null,
            "bottom": null,
            "_model_module": "@jupyter-widgets/base",
            "top": null,
            "grid_column": null,
            "overflow_y": null,
            "overflow_x": null,
            "grid_auto_flow": null,
            "grid_area": null,
            "grid_template_columns": null,
            "flex": null,
            "_model_name": "LayoutModel",
            "justify_items": null,
            "grid_row": null,
            "max_height": null,
            "align_content": null,
            "visibility": null,
            "align_self": null,
            "height": null,
            "min_height": null,
            "padding": null,
            "grid_auto_rows": null,
            "grid_gap": null,
            "max_width": null,
            "order": null,
            "_view_module_version": "1.2.0",
            "grid_template_areas": null,
            "object_position": null,
            "object_fit": null,
            "grid_auto_columns": null,
            "margin": null,
            "display": null,
            "left": null
          }
        },
        "9827956ad50a4e0ba5c2e787d2e1e6d8": {
          "model_module": "@jupyter-widgets/controls",
          "model_name": "DescriptionStyleModel",
          "state": {
            "_view_name": "StyleView",
            "_model_name": "DescriptionStyleModel",
            "description_width": "",
            "_view_module": "@jupyter-widgets/base",
            "_model_module_version": "1.5.0",
            "_view_count": null,
            "_view_module_version": "1.2.0",
            "_model_module": "@jupyter-widgets/controls"
          }
        },
        "596d1021558740e0be3e495d4b362327": {
          "model_module": "@jupyter-widgets/base",
          "model_name": "LayoutModel",
          "state": {
            "_view_name": "LayoutView",
            "grid_template_rows": null,
            "right": null,
            "justify_content": null,
            "_view_module": "@jupyter-widgets/base",
            "overflow": null,
            "_model_module_version": "1.2.0",
            "_view_count": null,
            "flex_flow": null,
            "width": null,
            "min_width": null,
            "border": null,
            "align_items": null,
            "bottom": null,
            "_model_module": "@jupyter-widgets/base",
            "top": null,
            "grid_column": null,
            "overflow_y": null,
            "overflow_x": null,
            "grid_auto_flow": null,
            "grid_area": null,
            "grid_template_columns": null,
            "flex": null,
            "_model_name": "LayoutModel",
            "justify_items": null,
            "grid_row": null,
            "max_height": null,
            "align_content": null,
            "visibility": null,
            "align_self": null,
            "height": null,
            "min_height": null,
            "padding": null,
            "grid_auto_rows": null,
            "grid_gap": null,
            "max_width": null,
            "order": null,
            "_view_module_version": "1.2.0",
            "grid_template_areas": null,
            "object_position": null,
            "object_fit": null,
            "grid_auto_columns": null,
            "margin": null,
            "display": null,
            "left": null
          }
        },
        "053e9f92929c4f5abc419b63f279cd72": {
          "model_module": "@jupyter-widgets/controls",
          "model_name": "HBoxModel",
          "state": {
            "_view_name": "HBoxView",
            "_dom_classes": [],
            "_model_name": "HBoxModel",
            "_view_module": "@jupyter-widgets/controls",
            "_model_module_version": "1.5.0",
            "_view_count": null,
            "_view_module_version": "1.5.0",
            "box_style": "",
            "layout": "IPY_MODEL_9c850617a56742c3aba21d0f236bcf5c",
            "_model_module": "@jupyter-widgets/controls",
            "children": [
              "IPY_MODEL_cce359d0a5d04fdab2d7fbe69f2bd2e0",
              "IPY_MODEL_b0774bdef6fb4332a48ad5ecf6a080e7"
            ]
          }
        },
        "9c850617a56742c3aba21d0f236bcf5c": {
          "model_module": "@jupyter-widgets/base",
          "model_name": "LayoutModel",
          "state": {
            "_view_name": "LayoutView",
            "grid_template_rows": null,
            "right": null,
            "justify_content": null,
            "_view_module": "@jupyter-widgets/base",
            "overflow": null,
            "_model_module_version": "1.2.0",
            "_view_count": null,
            "flex_flow": null,
            "width": null,
            "min_width": null,
            "border": null,
            "align_items": null,
            "bottom": null,
            "_model_module": "@jupyter-widgets/base",
            "top": null,
            "grid_column": null,
            "overflow_y": null,
            "overflow_x": null,
            "grid_auto_flow": null,
            "grid_area": null,
            "grid_template_columns": null,
            "flex": null,
            "_model_name": "LayoutModel",
            "justify_items": null,
            "grid_row": null,
            "max_height": null,
            "align_content": null,
            "visibility": null,
            "align_self": null,
            "height": null,
            "min_height": null,
            "padding": null,
            "grid_auto_rows": null,
            "grid_gap": null,
            "max_width": null,
            "order": null,
            "_view_module_version": "1.2.0",
            "grid_template_areas": null,
            "object_position": null,
            "object_fit": null,
            "grid_auto_columns": null,
            "margin": null,
            "display": null,
            "left": null
          }
        },
        "cce359d0a5d04fdab2d7fbe69f2bd2e0": {
          "model_module": "@jupyter-widgets/controls",
          "model_name": "FloatProgressModel",
          "state": {
            "_view_name": "ProgressView",
            "style": "IPY_MODEL_3c6b50da34324b9983de6b7dfb22fee4",
            "_dom_classes": [],
            "description": "100%",
            "_model_name": "FloatProgressModel",
            "bar_style": "success",
            "max": 1138,
            "_view_module": "@jupyter-widgets/controls",
            "_model_module_version": "1.5.0",
            "value": 1138,
            "_view_count": null,
            "_view_module_version": "1.5.0",
            "orientation": "horizontal",
            "min": 0,
            "description_tooltip": null,
            "_model_module": "@jupyter-widgets/controls",
            "layout": "IPY_MODEL_9cb3dea98f294d5191f1d78ccf2a7307"
          }
        },
        "b0774bdef6fb4332a48ad5ecf6a080e7": {
          "model_module": "@jupyter-widgets/controls",
          "model_name": "HTMLModel",
          "state": {
            "_view_name": "HTMLView",
            "style": "IPY_MODEL_ea0bb7fa94da43828b2145b08f1d9594",
            "_dom_classes": [],
            "description": "",
            "_model_name": "HTMLModel",
            "placeholder": "​",
            "_view_module": "@jupyter-widgets/controls",
            "_model_module_version": "1.5.0",
            "value": " 1138/1138 [16:00&lt;00:00,  1.19it/s]",
            "_view_count": null,
            "_view_module_version": "1.5.0",
            "description_tooltip": null,
            "_model_module": "@jupyter-widgets/controls",
            "layout": "IPY_MODEL_d3af0500a7054d98a9a0bf8da99cf89c"
          }
        },
        "3c6b50da34324b9983de6b7dfb22fee4": {
          "model_module": "@jupyter-widgets/controls",
          "model_name": "ProgressStyleModel",
          "state": {
            "_view_name": "StyleView",
            "_model_name": "ProgressStyleModel",
            "description_width": "initial",
            "_view_module": "@jupyter-widgets/base",
            "_model_module_version": "1.5.0",
            "_view_count": null,
            "_view_module_version": "1.2.0",
            "bar_color": null,
            "_model_module": "@jupyter-widgets/controls"
          }
        },
        "9cb3dea98f294d5191f1d78ccf2a7307": {
          "model_module": "@jupyter-widgets/base",
          "model_name": "LayoutModel",
          "state": {
            "_view_name": "LayoutView",
            "grid_template_rows": null,
            "right": null,
            "justify_content": null,
            "_view_module": "@jupyter-widgets/base",
            "overflow": null,
            "_model_module_version": "1.2.0",
            "_view_count": null,
            "flex_flow": null,
            "width": null,
            "min_width": null,
            "border": null,
            "align_items": null,
            "bottom": null,
            "_model_module": "@jupyter-widgets/base",
            "top": null,
            "grid_column": null,
            "overflow_y": null,
            "overflow_x": null,
            "grid_auto_flow": null,
            "grid_area": null,
            "grid_template_columns": null,
            "flex": null,
            "_model_name": "LayoutModel",
            "justify_items": null,
            "grid_row": null,
            "max_height": null,
            "align_content": null,
            "visibility": null,
            "align_self": null,
            "height": null,
            "min_height": null,
            "padding": null,
            "grid_auto_rows": null,
            "grid_gap": null,
            "max_width": null,
            "order": null,
            "_view_module_version": "1.2.0",
            "grid_template_areas": null,
            "object_position": null,
            "object_fit": null,
            "grid_auto_columns": null,
            "margin": null,
            "display": null,
            "left": null
          }
        },
        "ea0bb7fa94da43828b2145b08f1d9594": {
          "model_module": "@jupyter-widgets/controls",
          "model_name": "DescriptionStyleModel",
          "state": {
            "_view_name": "StyleView",
            "_model_name": "DescriptionStyleModel",
            "description_width": "",
            "_view_module": "@jupyter-widgets/base",
            "_model_module_version": "1.5.0",
            "_view_count": null,
            "_view_module_version": "1.2.0",
            "_model_module": "@jupyter-widgets/controls"
          }
        },
        "d3af0500a7054d98a9a0bf8da99cf89c": {
          "model_module": "@jupyter-widgets/base",
          "model_name": "LayoutModel",
          "state": {
            "_view_name": "LayoutView",
            "grid_template_rows": null,
            "right": null,
            "justify_content": null,
            "_view_module": "@jupyter-widgets/base",
            "overflow": null,
            "_model_module_version": "1.2.0",
            "_view_count": null,
            "flex_flow": null,
            "width": null,
            "min_width": null,
            "border": null,
            "align_items": null,
            "bottom": null,
            "_model_module": "@jupyter-widgets/base",
            "top": null,
            "grid_column": null,
            "overflow_y": null,
            "overflow_x": null,
            "grid_auto_flow": null,
            "grid_area": null,
            "grid_template_columns": null,
            "flex": null,
            "_model_name": "LayoutModel",
            "justify_items": null,
            "grid_row": null,
            "max_height": null,
            "align_content": null,
            "visibility": null,
            "align_self": null,
            "height": null,
            "min_height": null,
            "padding": null,
            "grid_auto_rows": null,
            "grid_gap": null,
            "max_width": null,
            "order": null,
            "_view_module_version": "1.2.0",
            "grid_template_areas": null,
            "object_position": null,
            "object_fit": null,
            "grid_auto_columns": null,
            "margin": null,
            "display": null,
            "left": null
          }
        }
      }
    }
  },
  "cells": [
    {
      "cell_type": "markdown",
      "metadata": {
        "id": "Xwf8i2ls2xUL"
      },
      "source": [
        "## miary dystrybucyjne i typu wordnet"
      ]
    },
    {
      "cell_type": "markdown",
      "metadata": {
        "id": "K9tyYB-6uBEI"
      },
      "source": [
        "### importy i przygotowanie środowiska\n"
      ]
    },
    {
      "cell_type": "code",
      "metadata": {
        "id": "0Caitbgm2z_1",
        "colab": {
          "base_uri": "https://localhost:8080/"
        },
        "outputId": "76391f18-1e76-4dd7-9dc6-ba06f66d072e"
      },
      "source": [
        "!pip3 install --index-url https://pypi.clarin-pl.eu/simple/ plwn-api"
      ],
      "execution_count": 1,
      "outputs": [
        {
          "output_type": "stream",
          "text": [
            "Looking in indexes: https://pypi.clarin-pl.eu/simple/\n",
            "Requirement already satisfied: plwn-api in /usr/local/lib/python3.6/dist-packages (0.24)\n",
            "Requirement already satisfied: requests in /usr/local/lib/python3.6/dist-packages (from plwn-api) (2.23.0)\n",
            "Requirement already satisfied: six>=1.10 in /usr/local/lib/python3.6/dist-packages (from plwn-api) (1.15.0)\n",
            "Requirement already satisfied: chardet<4,>=3.0.2 in /usr/local/lib/python3.6/dist-packages (from requests->plwn-api) (3.0.4)\n",
            "Requirement already satisfied: certifi>=2017.4.17 in /usr/local/lib/python3.6/dist-packages (from requests->plwn-api) (2020.6.20)\n",
            "Requirement already satisfied: idna<3,>=2.5 in /usr/local/lib/python3.6/dist-packages (from requests->plwn-api) (2.10)\n",
            "Requirement already satisfied: urllib3!=1.25.0,!=1.25.1,<1.26,>=1.21.1 in /usr/local/lib/python3.6/dist-packages (from requests->plwn-api) (1.24.3)\n"
          ],
          "name": "stdout"
        }
      ]
    },
    {
      "cell_type": "code",
      "metadata": {
        "id": "CjZTVBW9ZbiC"
      },
      "source": [
        "import plwn\n",
        "import numpy as np\n",
        "import scipy as sc\n",
        "import scipy.spatial\n",
        "import os\n",
        "import pandas as pd\n",
        "import math\n",
        "from collections import OrderedDict\n",
        "from tqdm.notebook import tqdm\n",
        "import seaborn as sns"
      ],
      "execution_count": 2,
      "outputs": []
    },
    {
      "cell_type": "code",
      "metadata": {
        "colab": {
          "base_uri": "https://localhost:8080/"
        },
        "id": "JQgUA36Z-mI5",
        "outputId": "f05dfe1e-5106-40f9-9ecb-bb97ff175425"
      },
      "source": [
        "import sys\n",
        "print(sys.getrecursionlimit())"
      ],
      "execution_count": 3,
      "outputs": [
        {
          "output_type": "stream",
          "text": [
            "1000\n"
          ],
          "name": "stdout"
        }
      ]
    },
    {
      "cell_type": "markdown",
      "metadata": {
        "id": "0si7_ZmJVbAZ"
      },
      "source": [
        "#### pobranie danych\n"
      ]
    },
    {
      "cell_type": "code",
      "metadata": {
        "colab": {
          "base_uri": "https://localhost:8080/"
        },
        "id": "7k_4dz9S6mz_",
        "outputId": "ab67be32-c120-46a9-af95-408c52630537"
      },
      "source": [
        "# # not always working:\n",
        "# if not os.path.exists('default_model'):\n",
        "#     res = plwn.download()\n",
        "# wn = plwn.load(\"default_model\")\n",
        "\n",
        "from google.colab import drive\n",
        "drive.mount('/content/gdrive')\n",
        "wn = plwn.load(\"/content/gdrive/My Drive/datasets/default_model\")"
      ],
      "execution_count": 4,
      "outputs": [
        {
          "output_type": "stream",
          "text": [
            "Drive already mounted at /content/gdrive; to attempt to forcibly remount, call drive.mount(\"/content/gdrive\", force_remount=True).\n"
          ],
          "name": "stdout"
        }
      ]
    },
    {
      "cell_type": "code",
      "metadata": {
        "id": "iTfdPjPDugSu"
      },
      "source": [
        "#download the embeddings if not already there:\n",
        "if not os.path.exists('./nkjp+wiki-lemmas-all-100-cbow-hs.txt'):\n",
        "    if not os.path.exists('./nkjp+wiki-lemmas-all-100-cbow-hs.txt.gz'):\n",
        "        !wget http://dsmodels.nlp.ipipan.waw.pl/dsmodels/nkjp+wiki-lemmas-all-100-cbow-hs.txt.gz\n",
        "    !gzip -d nkjp+wiki-lemmas-all-100-cbow-hs.txt.gz\n",
        "# if not os.path.exists('./nkjp+wiki-forms-all-100-cbow-hs.txt'):\n",
        "#     if not os.path.exists('./nkjp+wiki-forms-all-100-cbow-hs.txt.gz'):\n",
        "#         !wget http://dsmodels.nlp.ipipan.waw.pl/dsmodels/nkjp+wiki-forms-all-100-cbow-hs.txt.gz\n",
        "#     !gzip -d nkjp+wiki-forms-all-100-cbow-hs.txt.gz\n",
        "# if not os.path.exists('./kgr10.plain.skipgram.dim100.neg10.vec'):\n",
        "#     !wget \"https://nextcloud.clarin-pl.eu/index.php/s/luubhnS0AvjmtQc/download?path=%2F&files=kgr10.plain.skipgram.dim100.neg10.vec\" -O kgr10.plain.skipgram.dim100.neg10.vec\n",
        "\n",
        "#\n",
        "if not os.path.exists('./MSimLex999_Polish.txt'):\n",
        "    if not os.path.exists('./MSimLex999_Polish.zip'):\n",
        "        !wget \"http://zil.ipipan.waw.pl/CoDeS?action=AttachFile&do=get&target=MSimLex999_Polish.zip\" -O MSimLex999_Polish.zip\n",
        "    !unzip MSimLex999_Polish.zip"
      ],
      "execution_count": 5,
      "outputs": []
    },
    {
      "cell_type": "markdown",
      "metadata": {
        "id": "QFBnGHYtVjdZ"
      },
      "source": [
        "### komparatory ocen podobieństwa"
      ]
    },
    {
      "cell_type": "code",
      "metadata": {
        "id": "Vh8Ig2llAWzt"
      },
      "source": [
        "def levenshteinDistance(s1, s2): # unused\n",
        "    #https://stackoverflow.com/a/32558749\n",
        "    if len(s1) > len(s2):\n",
        "        s1, s2 = s2, s1\n",
        "\n",
        "    distances = range(len(s1) + 1)\n",
        "    for i2, c2 in enumerate(s2):\n",
        "        distances_ = [i2+1]\n",
        "        for i1, c1 in enumerate(s1):\n",
        "            if c1 == c2:\n",
        "                distances_.append(distances[i1])\n",
        "            else:\n",
        "                distances_.append(1 + min((distances[i1], distances[i1 + 1], distances_[-1])))\n",
        "        distances = distances_\n",
        "    return distances[-1]\n",
        "\n",
        "def HeuricticScoringMetric(s1, s2):\n",
        "    #s1, s2 must be sorted pandas.Series objects\n",
        "    s2_val = s2.iloc[0]\n",
        "    score = 0\n",
        "    for s1_idx, s1_val in s1.items():\n",
        "        s2_next_val = s2.loc[s1_idx]\n",
        "        if s2_next_val >= s2_val:\n",
        "            score += 1\n",
        "        s2_val = s2_next_val\n",
        "    return score"
      ],
      "execution_count": 6,
      "outputs": []
    },
    {
      "cell_type": "markdown",
      "metadata": {
        "id": "L3dhrHvk3DRD"
      },
      "source": [
        "### miary na słowosieci"
      ]
    },
    {
      "cell_type": "markdown",
      "metadata": {
        "id": "bBZ8D4Rs-Tuw"
      },
      "source": [
        "#### Wu-Palmer"
      ]
    },
    {
      "cell_type": "code",
      "metadata": {
        "id": "pPvkqgck3Bwl"
      },
      "source": [
        "def get_hipos(synset):\n",
        "    # returns list of synset hyponyms\n",
        "    parent_synsets = []\n",
        "    for relation, synset in synset.related_pairs():\n",
        "        if relation.name == 'hiponimia':\n",
        "            parent_synsets.append(synset)\n",
        "    return parent_synsets\n",
        "\n",
        "def hipo_tree(synset):\n",
        "    # recurrent tree of hyponyms (pl.: hiponom)\n",
        "    #  (synset [                                               ])\n",
        "    #           (synset [                              ]), ...\n",
        "    #                    (synset [...]), (synset [...])\n",
        "    return (synset, [ hipo_tree(s) \n",
        "            for s in get_hipos(synset)] )\n",
        "\n",
        "def hipo_tree_to_lvl_list(tree, lvl=0):\n",
        "    # turns hipo_tree into flat list \n",
        "    # with info about the distance from root\n",
        "    result = [(lvl, tree[0])]\n",
        "    parents = [hipo_tree_to_lvl_list(parents, lvl=lvl+1) for parents in tree[1]]\n",
        "    for ps in parents:\n",
        "        result += ps\n",
        "    return result\n",
        "\n",
        "def hipo_tree_to_lvl_leafs(tree, lvl=0):\n",
        "    # level and synset - as above,\n",
        "    # but only leafs returned\n",
        "    result = [lvl] if (len(tree[1]) == 0) else []\n",
        "    parents = [hipo_tree_to_lvl_leafs(parents, lvl=lvl+1) for parents in tree[1]]\n",
        "    for ps in parents:\n",
        "        result += ps\n",
        "    return result\n",
        "\n",
        "def syns_depth(syns):\n",
        "    # the total depth of synsetu\n",
        "    return min(hipo_tree_to_lvl_leafs(hipo_tree(syns)))\n",
        "\n",
        "def LCS(sa, sb, artificial_root=True):\n",
        "    hla = hipo_tree_to_lvl_list(hipo_tree(sa))\n",
        "    hlb = hipo_tree_to_lvl_list(hipo_tree(sb))\n",
        "    \n",
        "    dist_a, dist_b = 99999, 99999\n",
        "    idx_i, idx_j = -1, -1\n",
        "    for i in range(len(hla)):\n",
        "        mid_res = []\n",
        "        for j in range(len(hlb)):\n",
        "            if hla[i][1].short_str() == hlb[j][1].short_str():\n",
        "                if hla[i][0] + hlb[j][0] < dist_a + dist_b:\n",
        "                    dist_a, dist_b = hla[i][0], hlb[j][0]\n",
        "                    idx_i, idx_j = i, j\n",
        "    \n",
        "    lcs = hla[idx_i][1] if (idx_i != -1) else None #None also represents an artificial root\n",
        "    if artificial_root:\n",
        "        if lcs is None:\n",
        "            dist_a = syns_depth(sa) + 1\n",
        "            dist_b = syns_depth(sb) + 1\n",
        "    return lcs, dist_a, dist_b\n",
        "    \n",
        "def WP(lex_a, lex_b, artificial_root=True):\n",
        "    # https://www.mitpressjournals.org/doi/pdf/10.1162/coli.2006.32.1.13\n",
        "    # page 19\n",
        "    sa = lex_a.synset\n",
        "    sb = lex_b.synset\n",
        "    lcs_synset, a2lcs_dist, b2lcs_dist = LCS(sa, sb, artificial_root)\n",
        "    if lcs_synset is None:\n",
        "        # no LCS found - artificial root necessary\n",
        "        d = 0\n",
        "    else:\n",
        "        # measure the lcs depth\n",
        "        d = syns_depth(lcs_synset) + int(artificial_root)\n",
        "    return 2 * d / (a2lcs_dist + b2lcs_dist + 2 * d)"
      ],
      "execution_count": 7,
      "outputs": []
    },
    {
      "cell_type": "markdown",
      "metadata": {
        "id": "cvQGOD-Y-a3S"
      },
      "source": [
        "#### Leacock and Chodorow’s Normalized Path Length"
      ]
    },
    {
      "cell_type": "code",
      "metadata": {
        "id": "SiHVX6tC-bHT"
      },
      "source": [
        "def ModifiedNormalizedPathLength(lex_a, lex_b):\n",
        "    # modified Leacock and Chodorow’s Normalized Path Length\n",
        "    # modified here means rescaled (max_wn_depth was not measured)\n",
        "    # scoring monotony is perserved\n",
        "    sa = lex_a.synset\n",
        "    sb = lex_b.synset\n",
        "    lcs_synset, a2lcs_dist, b2lcs_dist = LCS(sa, sb)\n",
        "    len_a_b = a2lcs_dist + b2lcs_dist\n",
        "    max_wn_depth = 20\n",
        "    return -math.log(len_a_b/max_wn_depth)"
      ],
      "execution_count": 8,
      "outputs": []
    },
    {
      "cell_type": "markdown",
      "metadata": {
        "id": "Q3HONM5hD-ax"
      },
      "source": [
        "#### obie miary łącznie (bez dublowania obliczeń)"
      ]
    },
    {
      "cell_type": "code",
      "metadata": {
        "id": "WW3KJo1yEIVb"
      },
      "source": [
        "def WordnetMetrics(lex_a, lex_b):\n",
        "    # modified Leacock and Chodorow’s Normalized Path Length\n",
        "    # modified here means rescaled (max_wn_depth was not measured)\n",
        "    # scoring monotony is perserved\n",
        "    sa = lex_a.synset\n",
        "    sb = lex_b.synset\n",
        "    lcs_synset, a2lcs_dist, b2lcs_dist = LCS(sa, sb)\n",
        "    len_a_b = a2lcs_dist + b2lcs_dist\n",
        "    if len_a_b == 0: # log(0) would throw an error\n",
        "        len_a_b = 1\n",
        "    max_wn_depth = 20\n",
        "\n",
        "    #Wu Palmer\n",
        "    artificial_root = True\n",
        "    if lcs_synset is None:\n",
        "        # no LCS found - artificial root necessary\n",
        "        d = 0\n",
        "    else:\n",
        "        # measure the lcs depth\n",
        "        d = syns_depth(lcs_synset) + int(artificial_root)\n",
        "    return {'wu_palmer': 2 * d / (a2lcs_dist + b2lcs_dist + 2 * d),\n",
        "            'normalized_path_length': -math.log(len_a_b/max_wn_depth)}"
      ],
      "execution_count": 9,
      "outputs": []
    },
    {
      "cell_type": "markdown",
      "metadata": {
        "id": "HbVsC4jkuHVK"
      },
      "source": [
        "### klasa licząca odległości/podobieństwa"
      ]
    },
    {
      "cell_type": "code",
      "metadata": {
        "id": "Fu2d_2N4l6lS"
      },
      "source": [
        "class DistanceCalculator():\n",
        "    def __init__(self,\n",
        "                #  filepaths_to_embeddings={'waw_embed':'nkjp+wiki-lemmas-all-100-cbow-hs.txt',\n",
        "                #                           'wro_embed':'kgr10.plain.skipgram.dim100.neg10.vec'},\n",
        "                 filepaths_to_embeddings={'embed':'nkjp+wiki-lemmas-all-100-cbow-hs.txt'},\n",
        "                 wordnet=wn,\n",
        "                 ):\n",
        "        self.embeddings_dicts = {\n",
        "            key:self.embedings_from_file(path)\n",
        "            for key, path in filepaths_to_embeddings.items()\n",
        "        }\n",
        "        self.wordnet = wn\n",
        "\n",
        "    def simlex_eval(self, simlex_path='MSimLex999_Polish.txt'):\n",
        "        simlex_pl = pd.read_csv(simlex_path, sep='\\t', index_col='idx',\n",
        "                                names=['idx','word1','word2','similarity','relatedness'])\n",
        "        distances = []\n",
        "        indexes = []\n",
        "        for i, row in tqdm(simlex_pl.iterrows()):\n",
        "            try:\n",
        "                d = dc.calculate_distances(row.word1, row.word2)\n",
        "            except KeyError:\n",
        "                print(f'info: one of keys ({row.word1}, {row.word2}) not found in dictionary')\n",
        "                continue\n",
        "            except IndexError:\n",
        "                print(f'info: one of keys ({row.word1}, {row.word2}) not found in wordnet')\n",
        "            except RecursionError:\n",
        "                print(f'RecursionError given keys: ({row.word1}, {row.word2})')\n",
        "            distances.append(d)\n",
        "            indexes.append(i)\n",
        "        distances = pd.DataFrame(distances)\n",
        "        distances.set_index(pd.Index(indexes, name='idx'))\n",
        "        self.simlex_pl = simlex_pl.merge(distances, left_index=True, right_index=True)\n",
        "        return self.list_distances(self.simlex_pl.drop(columns=['word1','word2']))\n",
        "\n",
        "    def list_distances(self, pd_metrics):\n",
        "        #levenshteinDistance:\n",
        "        M = len(pd_metrics.columns)\n",
        "        score_matrix = [[None]*M for i in range(M)]\n",
        "        for i, c1 in enumerate(pd_metrics.columns):\n",
        "            for j, c2 in enumerate(pd_metrics.columns):\n",
        "                score_matrix[i][j] = HeuricticScoringMetric(pd_metrics[c1].sort_values(), \n",
        "                                                            pd_metrics[c2].sort_values())\n",
        "        return pd.DataFrame(score_matrix, index=pd_metrics.columns, columns=pd_metrics.columns)\n",
        "\n",
        "    def embedings_from_file(self, path):\n",
        "        embeddings = {}\n",
        "        print(f'reading file {path} ...')\n",
        "        with open(path) as f:\n",
        "            for line in tqdm(f):\n",
        "                word, coefs = line.split(maxsplit=1)\n",
        "                coefs = np.fromstring(coefs, \"f\", sep=\" \")\n",
        "                embeddings[word] = coefs\n",
        "        return embeddings\n",
        "\n",
        "    def cosine_similarity(self, wordA, wordB, embeddings):\n",
        "        return sc.spatial.distance.cosine(embeddings[wordA], embeddings[wordB])\n",
        "\n",
        "    def l2_similarity(self, wordA, wordB, embeddings):\n",
        "        return np.linalg.norm(embeddings[wordA] - embeddings[wordB])\n",
        "\n",
        "    def distribution_distances(self, wordA, wordB):\n",
        "        result = {}\n",
        "        for dictionary_name, embeddings in self.embeddings_dicts.items():\n",
        "            result.update({\n",
        "                f'cosine_distance_{dictionary_name}': self.cosine_similarity(wordA, wordB, embeddings),\n",
        "                f'euclidean_distance_{dictionary_name}': self.l2_similarity(wordA, wordB, embeddings),\n",
        "            })\n",
        "        return result\n",
        "\n",
        "    def wordnet_distances(self, wordA, wordB):\n",
        "        result = {}\n",
        "        wordA = self.wordnet.lexical_units(wordA)[0]\n",
        "        wordB = self.wordnet.lexical_units(wordB)[0]\n",
        "        metrics = WordnetMetrics(wordA, wordB)\n",
        "        result.update({\n",
        "            f'wordnet_Wu-Palmer': metrics['wu_palmer'],\n",
        "            f'wordnet_NormalizedPathLength': metrics['normalized_path_length'],\n",
        "        })\n",
        "        return result\n",
        "\n",
        "    def calculate_distances(self, wordA, wordB):\n",
        "        result = {}\n",
        "        result.update(self.wordnet_distances(wordA, wordB))\n",
        "        result.update(self.distribution_distances(wordA, wordB))\n",
        "        return result\n",
        "\n",
        "    def get_K_closest_to_wordA_from_list(self, wordA, list_of_words, K=5):\n",
        "        results = {}\n",
        "        for wordB in tqdm(list_of_words):\n",
        "            try:\n",
        "                distances = self.calculate_distances(wordA, wordB)\n",
        "            except KeyError:\n",
        "                print(f'info: one of keys ({wordA}, {wordB}) not found in dictionary')\n",
        "                continue\n",
        "            except IndexError:\n",
        "                print(f'info: one of keys ({wordA}, {wordB}) not found in wordnet')\n",
        "            except RecursionError:\n",
        "                print(f'RecursionError given keys: ({wordA}, {wordB})')\n",
        "            results[wordB] = distances\n",
        "        pd_results = pd.DataFrame(results).T\n",
        "        result = {}\n",
        "        for metric, all_distances in pd_results.items():\n",
        "            result[metric] = all_distances.sort_values()[:K].to_dict(into=OrderedDict)\n",
        "        return result"
      ],
      "execution_count": 10,
      "outputs": []
    },
    {
      "cell_type": "markdown",
      "metadata": {
        "id": "SG0Zt41kUor1"
      },
      "source": [
        "## obserwacje"
      ]
    },
    {
      "cell_type": "code",
      "metadata": {
        "colab": {
          "base_uri": "https://localhost:8080/",
          "height": 84,
          "referenced_widgets": [
            "bcddbe2d290949b9a69930d6e9d3e36e",
            "184d399ddd8a4464a820f81fa96c607b",
            "4350ca093aca4c3da43a683bf9d30881",
            "790dafdf41ed4f5d8bda48ae0a24bd8b",
            "7f444591f0fe4b2785126143dd7bd2bd",
            "8be5ac4996a944a492bfa7c6c523da56",
            "af9feec743374cc5b7f085cf0688da0f",
            "44e5aacf09194e9d8e5854717b266f10"
          ]
        },
        "id": "oBlmBH15yqoC",
        "outputId": "609515f5-98f7-488e-f8b7-d62b319bfdb7"
      },
      "source": [
        "dc = DistanceCalculator()"
      ],
      "execution_count": 11,
      "outputs": [
        {
          "output_type": "stream",
          "text": [
            "reading file nkjp+wiki-lemmas-all-100-cbow-hs.txt ...\n"
          ],
          "name": "stdout"
        },
        {
          "output_type": "display_data",
          "data": {
            "application/vnd.jupyter.widget-view+json": {
              "model_id": "bcddbe2d290949b9a69930d6e9d3e36e",
              "version_minor": 0,
              "version_major": 2
            },
            "text/plain": [
              "HBox(children=(FloatProgress(value=1.0, bar_style='info', max=1.0), HTML(value='')))"
            ]
          },
          "metadata": {
            "tags": []
          }
        },
        {
          "output_type": "stream",
          "text": [
            "\n"
          ],
          "name": "stdout"
        }
      ]
    },
    {
      "cell_type": "code",
      "metadata": {
        "colab": {
          "base_uri": "https://localhost:8080/"
        },
        "id": "uFhaiCQFzDKd",
        "outputId": "e713c5ec-7439-4b3c-fc17-494d019a7587"
      },
      "source": [
        "dc.calculate_distances('kot','pies')"
      ],
      "execution_count": 12,
      "outputs": [
        {
          "output_type": "execute_result",
          "data": {
            "text/plain": [
              "{'cosine_distance_embed': 0.15627360343933105,\n",
              " 'euclidean_distance_embed': 8.467666,\n",
              " 'wordnet_NormalizedPathLength': 2.3025850929940455,\n",
              " 'wordnet_Wu-Palmer': 0.8571428571428571}"
            ]
          },
          "metadata": {
            "tags": []
          },
          "execution_count": 12
        }
      ]
    },
    {
      "cell_type": "code",
      "metadata": {
        "colab": {
          "base_uri": "https://localhost:8080/"
        },
        "id": "ASPZ-2Ot6ciI",
        "outputId": "8acaa09a-2bdd-4284-c038-0577c48623ea"
      },
      "source": [
        "dc.calculate_distances('kot','lodówka')"
      ],
      "execution_count": 13,
      "outputs": [
        {
          "output_type": "execute_result",
          "data": {
            "text/plain": [
              "{'cosine_distance_embed': 0.6711545884609222,\n",
              " 'euclidean_distance_embed': 17.376816,\n",
              " 'wordnet_NormalizedPathLength': 0.4307829160924542,\n",
              " 'wordnet_Wu-Palmer': 0.23529411764705882}"
            ]
          },
          "metadata": {
            "tags": []
          },
          "execution_count": 13
        }
      ]
    },
    {
      "cell_type": "code",
      "metadata": {
        "colab": {
          "base_uri": "https://localhost:8080/"
        },
        "id": "bBzKbArQ7Que",
        "outputId": "9a4d31fe-51f9-4bd4-f7ec-9471ac21c868"
      },
      "source": [
        "dc.calculate_distances('pływać','różowy')"
      ],
      "execution_count": 14,
      "outputs": [
        {
          "output_type": "execute_result",
          "data": {
            "text/plain": [
              "{'cosine_distance_embed': 0.8321841508150101,\n",
              " 'euclidean_distance_embed': 19.901152,\n",
              " 'wordnet_NormalizedPathLength': 1.2039728043259361,\n",
              " 'wordnet_Wu-Palmer': 0.0}"
            ]
          },
          "metadata": {
            "tags": []
          },
          "execution_count": 14
        }
      ]
    },
    {
      "cell_type": "code",
      "metadata": {
        "colab": {
          "base_uri": "https://localhost:8080/",
          "height": 1000,
          "referenced_widgets": [
            "4d997918927e4619bcd544f6c2737841",
            "6b8826de6e0444c0a8aaee57e515336c",
            "a48a3754b9684803ab8f77ad7dee6812",
            "36dd1b87a4e845b78ed0836a0f32fad6",
            "ab079e7f286240cdafdda3f36f00f9af",
            "643484164d2e498ab1c5bdd187c594dd",
            "9827956ad50a4e0ba5c2e787d2e1e6d8",
            "596d1021558740e0be3e495d4b362327"
          ]
        },
        "id": "ppd7IDQCK2Tr",
        "outputId": "bc5d31c8-00f1-40f1-ece5-13260732f319"
      },
      "source": [
        "most_simillar_metrics = dc.simlex_eval('MSimLex999_Polish.txt')\n",
        "sns.heatmap(most_simillar_metrics, annot=True).set(title='scoring similatity (heuristic)');"
      ],
      "execution_count": 15,
      "outputs": [
        {
          "output_type": "display_data",
          "data": {
            "application/vnd.jupyter.widget-view+json": {
              "model_id": "4d997918927e4619bcd544f6c2737841",
              "version_minor": 0,
              "version_major": 2
            },
            "text/plain": [
              "HBox(children=(FloatProgress(value=1.0, bar_style='info', max=1.0), HTML(value='')))"
            ]
          },
          "metadata": {
            "tags": []
          }
        },
        {
          "output_type": "stream",
          "text": [
            "info: one of keys (przestraszony, zalękniony) not found in dictionary\n",
            "info: one of keys (obładowany, ciężki) not found in wordnet\n",
            "info: one of keys (niedawny, nowy) not found in wordnet\n",
            "info: one of keys (głupi , rzadki) not found in wordnet\n",
            "info: one of keys (pieniądze, pensja) not found in dictionary\n",
            "info: one of keys (łódź, kotwica) not found in dictionary\n",
            "info: one of keys (łódź, pokład) not found in dictionary\n",
            "info: one of keys (ubrania, szuflada) not found in wordnet\n",
            "info: one of keys (pieniądze, kapitał) not found in dictionary\n",
            "info: one of keys (łódź, samochód) not found in dictionary\n",
            "info: one of keys (dąb , klon) not found in wordnet\n",
            "info: one of keys (nasiona, musztarda) not found in wordnet\n",
            "info: one of keys (silnik, łódź) not found in dictionary\n",
            "info: one of keys (mężczyźni, bractwo) not found in wordnet\n",
            "info: one of keys (mieszkanie, meble) not found in wordnet\n",
            "info: one of keys (populacja, ludzie) not found in dictionary\n",
            "info: one of keys (zaprzeczenie, spowiedż) not found in wordnet\n",
            "info: one of keys (ludzie, cent) not found in dictionary\n",
            "info: one of keys (ludzie, pistolet) not found in dictionary\n",
            "info: one of keys (ludzie, balon) not found in dictionary\n",
            "info: one of keys (dolar, ludzie) not found in dictionary\n",
            "RecursionError given keys: (iść, przyjść)\n",
            "RecursionError given keys: (wziąć, ukraść)\n",
            "RecursionError given keys: (mnożyć, dzielić)\n",
            "RecursionError given keys: (zacząć, zapoczątkować)\n",
            "RecursionError given keys: (zabić, zniszczyć)\n",
            "RecursionError given keys: (stworzyć, zrobić)\n",
            "RecursionError given keys: (wyjść, wejść)\n",
            "RecursionError given keys: (decydować, wybrać)\n",
            "RecursionError given keys: (osiągnąć, spełnić)\n",
            "RecursionError given keys: (stworzyć, skonstruować)\n",
            "RecursionError given keys: (otrzymywać, dać)\n",
            "RecursionError given keys: (pożyczyć, błagać)\n",
            "RecursionError given keys: (wziąć, otrzymać)\n",
            "RecursionError given keys: (poradzić, polecić)\n",
            "RecursionError given keys: (imitować, portretować)\n",
            "RecursionError given keys: (zwyciężyć, osiągnąć)\n",
            "RecursionError given keys: (przywitać, spotkać)\n",
            "RecursionError given keys: (brać, otrzymywać)\n",
            "RecursionError given keys: (trzymać, posiadać)\n",
            "RecursionError given keys: (wygrywać, przegrywać)\n",
            "RecursionError given keys: (wydawać, oszczędzać)\n",
            "RecursionError given keys: (wyjść, pójść)\n",
            "RecursionError given keys: (przyjść, uczestniczyć)\n",
            "RecursionError given keys: (gromadzić, spotykać)\n",
            "RecursionError given keys: (robić, zarobić)\n",
            "RecursionError given keys: (osiągnąć, próbować)\n",
            "RecursionError given keys: (dodawać, dzielić)\n",
            "RecursionError given keys: (zabić, udusić)\n",
            "RecursionError given keys: (nabyć, dostać)\n",
            "RecursionError given keys: (uczestniczyć, dołączyć)\n",
            "RecursionError given keys: (odejść, pozostać)\n",
            "RecursionError given keys: (iść, wejść)\n",
            "RecursionError given keys: (wziąć, nieść)\n",
            "RecursionError given keys: (mianować, wybrać)\n",
            "RecursionError given keys: (wziąć, dostarczać)\n",
            "RecursionError given keys: (analizować, oceniać)\n",
            "RecursionError given keys: (stracić, zatrzymać)\n",
            "RecursionError given keys: (porównywać, analizować)\n",
            "RecursionError given keys: (dezorganizować, organizować)\n",
            "RecursionError given keys: (wziąć, posiąść)\n",
            "RecursionError given keys: (zabić, powiesić)\n",
            "RecursionError given keys: (zrobić, nastąpić)\n",
            "RecursionError given keys: (wygrać, osiągnąć)\n",
            "RecursionError given keys: (zasłużyć, zarobić)\n",
            "RecursionError given keys: (zlokalizować, znaleźć)\n",
            "RecursionError given keys: (zawitać, przyjść)\n",
            "info: one of keys (udawać, wyobrażać) not found in wordnet\n",
            "RecursionError given keys: (hołubić, trzymać)\n",
            "RecursionError given keys: (współpracować, uczestniczyć)\n",
            "RecursionError given keys: (zacząć, porzucić)\n",
            "RecursionError given keys: (mówić, uczestniczyć)\n",
            "RecursionError given keys: (przyjść, przynieść)\n",
            "RecursionError given keys: (deklarować, ogłaszać)\n",
            "RecursionError given keys: (wziąć, opuścić)\n",
            "RecursionError given keys: (zdobyć, otrzymać)\n",
            "RecursionError given keys: (znaleźć, zniknąć)\n",
            "RecursionError given keys: (sprawdzać, badać)\n",
            "RecursionError given keys: (weryfikować, uzasadniać)\n",
            "RecursionError given keys: (zrobić, zostać)\n",
            "RecursionError given keys: (zwyciężyć, dokonać)\n",
            "RecursionError given keys: (dać, położyć)\n",
            "RecursionError given keys: (trzymać, chronić)\n",
            "RecursionError given keys: (wybaczyć, zapomnieć)\n",
            "RecursionError given keys: (zrozumieć, wybaczyć)\n",
            "RecursionError given keys: (dostać, pozostać)\n",
            "RecursionError given keys: (zrozumieć, odkryć)\n",
            "RecursionError given keys: (odrzucać, unikać)\n",
            "RecursionError given keys: (przebadać, zbadać)\n",
            "RecursionError given keys: (poszukiwać, odkrywać)\n",
            "RecursionError given keys: (wycofywać, odrzucać)\n",
            "RecursionError given keys: (trzymać, pożyczać)\n",
            "RecursionError given keys: (aranżować, organizować)\n",
            "RecursionError given keys: (dać, pożyczyć)\n",
            "RecursionError given keys: (zabijać, bronić)\n",
            "RecursionError given keys: (zostawać, wyglądać)\n",
            "RecursionError given keys: (udawać, wyglądać)\n",
            "RecursionError given keys: (dogadzać, zabawiać)\n",
            "RecursionError given keys: (udawać, grać)\n",
            "RecursionError given keys: (stracić, dostać)\n",
            "info: one of keys (zostawać, pojawiać) not found in wordnet\n",
            "RecursionError given keys: (opuścić, zignorować)\n",
            "RecursionError given keys: (opuścić, wędrować)\n",
            "RecursionError given keys: (zachować, oddać)\n",
            "RecursionError given keys: (przynosić, wysyłać)\n",
            "RecursionError given keys: (zdobyć, znaleźć)\n",
            "RecursionError given keys: (opuścić, wyglądać)\n",
            "RecursionError given keys: (dostać, kupić)\n",
            "RecursionError given keys: (zbierać, odkładać)\n",
            "RecursionError given keys: (dołączać, dodawać)\n",
            "RecursionError given keys: (przyjmować, dostarczać)\n",
            "RecursionError given keys: (przyłączać, dołączać)\n",
            "info: one of keys (komunikować, modlić) not found in wordnet\n",
            "RecursionError given keys: (zrozumieć, zaspokoić)\n",
            "RecursionError given keys: (organizować, zostawać)\n",
            "RecursionError given keys: (mówić, weryfikować)\n",
            "RecursionError given keys: (współpracować, dołączyć)\n",
            "RecursionError given keys: (organizować, wymagać)\n",
            "RecursionError given keys: (pożyczyć, chcieć)\n",
            "RecursionError given keys: (wnosić, narzekać)\n",
            "RecursionError given keys: (wchodzić, zawdzięczać)\n",
            "RecursionError given keys: (dołączyć, zdobyć)\n",
            "RecursionError given keys: (wysyłać, uczestniczyć)\n",
            "RecursionError given keys: (zbierać, uczestniczyć)\n",
            "RecursionError given keys: (pochłonąć, wycofać)\n",
            "RecursionError given keys: (uczestniczyć, przybyć)\n",
            "\n"
          ],
          "name": "stdout"
        },
        {
          "output_type": "display_data",
          "data": {
            "image/png": "[encoded data removed]",
            "text/plain": [
              "<Figure size 432x288 with 2 Axes>"
            ]
          },
          "metadata": {
            "tags": [],
            "needs_background": "light"
          }
        }
      ]
    },
    {
      "cell_type": "code",
      "metadata": {
        "id": "9_e7yACyVCHL"
      },
      "source": [
        "setA = !awk '{print $2}' MSimLex999_Polish.txt\n",
        "setB = !awk '{print $3}' MSimLex999_Polish.txt\n",
        "tiny_corpus = set(setA) | set(setB)"
      ],
      "execution_count": 16,
      "outputs": []
    },
    {
      "cell_type": "code",
      "metadata": {
        "colab": {
          "base_uri": "https://localhost:8080/",
          "height": 1000,
          "referenced_widgets": [
            "053e9f92929c4f5abc419b63f279cd72",
            "9c850617a56742c3aba21d0f236bcf5c",
            "cce359d0a5d04fdab2d7fbe69f2bd2e0",
            "b0774bdef6fb4332a48ad5ecf6a080e7",
            "3c6b50da34324b9983de6b7dfb22fee4",
            "9cb3dea98f294d5191f1d78ccf2a7307",
            "ea0bb7fa94da43828b2145b08f1d9594",
            "d3af0500a7054d98a9a0bf8da99cf89c"
          ]
        },
        "id": "IdYD8BdSWfnC",
        "outputId": "108dbd09-20da-4f46-a3b1-91f5d793e8e8"
      },
      "source": [
        "dc.get_K_closest_to_wordA_from_list('bystry', tiny_corpus, K=10)"
      ],
      "execution_count": 17,
      "outputs": [
        {
          "output_type": "display_data",
          "data": {
            "application/vnd.jupyter.widget-view+json": {
              "model_id": "053e9f92929c4f5abc419b63f279cd72",
              "version_minor": 0,
              "version_major": 2
            },
            "text/plain": [
              "HBox(children=(FloatProgress(value=0.0, max=1138.0), HTML(value='')))"
            ]
          },
          "metadata": {
            "tags": []
          }
        },
        {
          "output_type": "stream",
          "text": [
            "RecursionError given keys: (bystry, deklarować)\n",
            "RecursionError given keys: (bystry, odkładać)\n",
            "RecursionError given keys: (bystry, posiąść)\n",
            "RecursionError given keys: (bystry, aranżować)\n",
            "info: one of keys (bystry, mężczyźni) not found in wordnet\n",
            "RecursionError given keys: (bystry, przyjść)\n",
            "info: one of keys (bystry, pojawiać) not found in wordnet\n",
            "RecursionError given keys: (bystry, spełnić)\n",
            "RecursionError given keys: (bystry, dać)\n",
            "RecursionError given keys: (bystry, zbierać)\n",
            "RecursionError given keys: (bystry, zabawiać)\n",
            "info: one of keys (bystry, obładowany) not found in wordnet\n",
            "RecursionError given keys: (bystry, przynosić)\n",
            "RecursionError given keys: (bystry, zbadać)\n",
            "RecursionError given keys: (bystry, grać)\n",
            "RecursionError given keys: (bystry, wyglądać)\n",
            "RecursionError given keys: (bystry, udusić)\n",
            "RecursionError given keys: (bystry, zawitać)\n",
            "RecursionError given keys: (bystry, ukraść)\n",
            "RecursionError given keys: (bystry, zdobyć)\n",
            "RecursionError given keys: (bystry, zlokalizować)\n",
            "RecursionError given keys: (bystry, portretować)\n",
            "RecursionError given keys: (bystry, organizować)\n",
            "RecursionError given keys: (bystry, zasłużyć)\n",
            "RecursionError given keys: (bystry, odrzucać)\n",
            "info: one of keys (bystry, ubrania) not found in wordnet\n",
            "info: one of keys (bystry, pieniądze) not found in dictionary\n",
            "RecursionError given keys: (bystry, sprawdzać)\n",
            "info: one of keys (bystry, niedawny) not found in wordnet\n",
            "RecursionError given keys: (bystry, pójść)\n",
            "RecursionError given keys: (bystry, dzielić)\n",
            "RecursionError given keys: (bystry, gromadzić)\n",
            "RecursionError given keys: (bystry, wnosić)\n",
            "RecursionError given keys: (bystry, nabyć)\n",
            "RecursionError given keys: (bystry, zrobić)\n",
            "RecursionError given keys: (bystry, imitować)\n",
            "info: one of keys (bystry, łódź) not found in dictionary\n",
            "RecursionError given keys: (bystry, osiągnąć)\n",
            "RecursionError given keys: (bystry, brać)\n",
            "RecursionError given keys: (bystry, zacząć)\n",
            "RecursionError given keys: (bystry, dostarczać)\n",
            "RecursionError given keys: (bystry, wybaczyć)\n",
            "RecursionError given keys: (bystry, stworzyć)\n",
            "RecursionError given keys: (bystry, odejść)\n",
            "RecursionError given keys: (bystry, wycofać)\n",
            "RecursionError given keys: (bystry, wziąć)\n",
            "RecursionError given keys: (bystry, zabić)\n",
            "RecursionError given keys: (bystry, zrozumieć)\n",
            "RecursionError given keys: (bystry, porównywać)\n",
            "RecursionError given keys: (bystry, analizować)\n",
            "RecursionError given keys: (bystry, wyjść)\n",
            "RecursionError given keys: (bystry, weryfikować)\n",
            "RecursionError given keys: (bystry, wygrać)\n",
            "RecursionError given keys: (bystry, poszukiwać)\n",
            "RecursionError given keys: (bystry, wejść)\n",
            "info: one of keys (bystry, wyobrażać) not found in wordnet\n",
            "info: one of keys (bystry, spowiedż) not found in wordnet\n",
            "RecursionError given keys: (bystry, znaleźć)\n",
            "RecursionError given keys: (bystry, kupić)\n",
            "RecursionError given keys: (bystry, zapoczątkować)\n",
            "RecursionError given keys: (bystry, dostać)\n",
            "RecursionError given keys: (bystry, współpracować)\n",
            "info: one of keys (bystry, meble) not found in wordnet\n",
            "RecursionError given keys: (bystry, wchodzić)\n",
            "RecursionError given keys: (bystry, zarobić)\n",
            "RecursionError given keys: (bystry, zachować)\n",
            "RecursionError given keys: (bystry, oddać)\n",
            "RecursionError given keys: (bystry, wybrać)\n",
            "RecursionError given keys: (bystry, dołączyć)\n",
            "RecursionError given keys: (bystry, otrzymać)\n",
            "RecursionError given keys: (bystry, zignorować)\n",
            "RecursionError given keys: (bystry, pożyczyć)\n",
            "info: one of keys (bystry, przestraszony) not found in dictionary\n",
            "info: one of keys (bystry, ludzie) not found in dictionary\n",
            "RecursionError given keys: (bystry, trzymać)\n",
            "RecursionError given keys: (bystry, wygrywać)\n",
            "RecursionError given keys: (bystry, uczestniczyć)\n",
            "RecursionError given keys: (bystry, skonstruować)\n",
            "RecursionError given keys: (bystry, dokonać)\n",
            "RecursionError given keys: (bystry, opuścić)\n",
            "info: one of keys (bystry, modlić) not found in wordnet\n",
            "info: one of keys (bystry, nasiona) not found in wordnet\n",
            "RecursionError given keys: (bystry, zabijać)\n",
            "RecursionError given keys: (bystry, polecić)\n",
            "RecursionError given keys: (bystry, zatrzymać)\n",
            "RecursionError given keys: (bystry, przywitać)\n",
            "RecursionError given keys: (bystry, oszczędzać)\n",
            "RecursionError given keys: (bystry, przybyć)\n",
            "RecursionError given keys: (bystry, dołączać)\n",
            "\n"
          ],
          "name": "stdout"
        },
        {
          "output_type": "execute_result",
          "data": {
            "text/plain": [
              "{'cosine_distance_embed': OrderedDict([('bystry', 0.0),\n",
              "              ('chłopiec', 0.6090092957019806),\n",
              "              ('usposobienie', 0.6341421008110046),\n",
              "              ('gniewny', 0.644877701997757),\n",
              "              ('zalękniony', 0.6508411467075348),\n",
              "              ('pogoda', 0.6550817787647247),\n",
              "              ('chłopak', 0.6673302054405212),\n",
              "              ('dziewczyna', 0.6772406697273254),\n",
              "              ('szałas', 0.7002425193786621),\n",
              "              ('opowieść', 0.7058223783969879)]),\n",
              " 'euclidean_distance_embed': OrderedDict([('bystry', 0.0),\n",
              "              ('zalękniony', 14.839924812316895),\n",
              "              ('koncept', 15.128437995910645),\n",
              "              ('ogar', 15.193888664245605),\n",
              "              ('zgraja', 15.26916217803955),\n",
              "              ('głupol', 15.381369590759277),\n",
              "              ('gin', 15.476540565490723),\n",
              "              ('wielkoduszny', 15.702993392944336),\n",
              "              ('prędki', 15.719139099121094),\n",
              "              ('chytry', 15.763794898986816)]),\n",
              " 'wordnet_NormalizedPathLength': OrderedDict([('ogar', 0.35667494393873245),\n",
              "              ('kura', 0.4307829160924542),\n",
              "              ('indyk', 0.4307829160924542),\n",
              "              ('pasja', 0.5108256237659907),\n",
              "              ('mrówka', 0.5108256237659907),\n",
              "              ('pszczoła', 0.5108256237659907),\n",
              "              ('chemia', 0.5108256237659907),\n",
              "              ('biologia', 0.5108256237659907),\n",
              "              ('gazeta', 0.5108256237659907),\n",
              "              ('odrzutowiec', 0.5108256237659907)]),\n",
              " 'wordnet_Wu-Palmer': OrderedDict([('wół', 0.0),\n",
              "              ('muzyka', 0.0),\n",
              "              ('zabawny', 0.0),\n",
              "              ('infekcja', 0.0),\n",
              "              ('zniechęcić', 0.0),\n",
              "              ('kurczyć', 0.0),\n",
              "              ('ocean', 0.0),\n",
              "              ('marihuana', 0.0),\n",
              "              ('dyskutować', 0.0),\n",
              "              ('major', 0.0)])}"
            ]
          },
          "metadata": {
            "tags": []
          },
          "execution_count": 17
        }
      ]
    }
  ]
}