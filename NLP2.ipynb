{
  "nbformat": 4,
  "nbformat_minor": 0,
  "metadata": {
    "colab": {
      "name": "NLP2.ipynb",
      "provenance": [],
      "collapsed_sections": [
        "0si7_ZmJVbAZ",
        "QFBnGHYtVjdZ"
      ]
    },
    "kernelspec": {
      "name": "python3",
      "display_name": "Python 3"
    },
    "widgets": {
      "application/vnd.jupyter.widget-state+json": {
        "7fd5c22b0e994fe7af2528638cec50bd": {
          "model_module": "@jupyter-widgets/controls",
          "model_name": "HBoxModel",
          "state": {
            "_view_name": "HBoxView",
            "_dom_classes": [],
            "_model_name": "HBoxModel",
            "_view_module": "@jupyter-widgets/controls",
            "_model_module_version": "1.5.0",
            "_view_count": null,
            "_view_module_version": "1.5.0",
            "box_style": "",
            "layout": "IPY_MODEL_733f9a55fbd3444b971d1fd0b3e18143",
            "_model_module": "@jupyter-widgets/controls",
            "children": [
              "IPY_MODEL_83e579882a9d4628a62257dd7025d2fb",
              "IPY_MODEL_a4d002e6a0a442e19f67d5b10a094c7e"
            ]
          }
        },
        "733f9a55fbd3444b971d1fd0b3e18143": {
          "model_module": "@jupyter-widgets/base",
          "model_name": "LayoutModel",
          "state": {
            "_view_name": "LayoutView",
            "grid_template_rows": null,
            "right": null,
            "justify_content": null,
            "_view_module": "@jupyter-widgets/base",
            "overflow": null,
            "_model_module_version": "1.2.0",
            "_view_count": null,
            "flex_flow": null,
            "width": null,
            "min_width": null,
            "border": null,
            "align_items": null,
            "bottom": null,
            "_model_module": "@jupyter-widgets/base",
            "top": null,
            "grid_column": null,
            "overflow_y": null,
            "overflow_x": null,
            "grid_auto_flow": null,
            "grid_area": null,
            "grid_template_columns": null,
            "flex": null,
            "_model_name": "LayoutModel",
            "justify_items": null,
            "grid_row": null,
            "max_height": null,
            "align_content": null,
            "visibility": null,
            "align_self": null,
            "height": null,
            "min_height": null,
            "padding": null,
            "grid_auto_rows": null,
            "grid_gap": null,
            "max_width": null,
            "order": null,
            "_view_module_version": "1.2.0",
            "grid_template_areas": null,
            "object_position": null,
            "object_fit": null,
            "grid_auto_columns": null,
            "margin": null,
            "display": null,
            "left": null
          }
        },
        "83e579882a9d4628a62257dd7025d2fb": {
          "model_module": "@jupyter-widgets/controls",
          "model_name": "FloatProgressModel",
          "state": {
            "_view_name": "ProgressView",
            "style": "IPY_MODEL_05061f857b3b4f85b44f7e42b451591a",
            "_dom_classes": [],
            "description": "",
            "_model_name": "FloatProgressModel",
            "bar_style": "success",
            "max": 1,
            "_view_module": "@jupyter-widgets/controls",
            "_model_module_version": "1.5.0",
            "value": 1,
            "_view_count": null,
            "_view_module_version": "1.5.0",
            "orientation": "horizontal",
            "min": 0,
            "description_tooltip": null,
            "_model_module": "@jupyter-widgets/controls",
            "layout": "IPY_MODEL_b7aba2e892c4457a8ee5201e115b0e65"
          }
        },
        "a4d002e6a0a442e19f67d5b10a094c7e": {
          "model_module": "@jupyter-widgets/controls",
          "model_name": "HTMLModel",
          "state": {
            "_view_name": "HTMLView",
            "style": "IPY_MODEL_d3a3aa74143e4efcab042b37632c3580",
            "_dom_classes": [],
            "description": "",
            "_model_name": "HTMLModel",
            "placeholder": "​",
            "_view_module": "@jupyter-widgets/controls",
            "_model_module_version": "1.5.0",
            "value": " 1549323/? [00:39&lt;00:00, 38782.06it/s]",
            "_view_count": null,
            "_view_module_version": "1.5.0",
            "description_tooltip": null,
            "_model_module": "@jupyter-widgets/controls",
            "layout": "IPY_MODEL_4b710febad3f46438f485e6264569fc8"
          }
        },
        "05061f857b3b4f85b44f7e42b451591a": {
          "model_module": "@jupyter-widgets/controls",
          "model_name": "ProgressStyleModel",
          "state": {
            "_view_name": "StyleView",
            "_model_name": "ProgressStyleModel",
            "description_width": "initial",
            "_view_module": "@jupyter-widgets/base",
            "_model_module_version": "1.5.0",
            "_view_count": null,
            "_view_module_version": "1.2.0",
            "bar_color": null,
            "_model_module": "@jupyter-widgets/controls"
          }
        },
        "b7aba2e892c4457a8ee5201e115b0e65": {
          "model_module": "@jupyter-widgets/base",
          "model_name": "LayoutModel",
          "state": {
            "_view_name": "LayoutView",
            "grid_template_rows": null,
            "right": null,
            "justify_content": null,
            "_view_module": "@jupyter-widgets/base",
            "overflow": null,
            "_model_module_version": "1.2.0",
            "_view_count": null,
            "flex_flow": null,
            "width": null,
            "min_width": null,
            "border": null,
            "align_items": null,
            "bottom": null,
            "_model_module": "@jupyter-widgets/base",
            "top": null,
            "grid_column": null,
            "overflow_y": null,
            "overflow_x": null,
            "grid_auto_flow": null,
            "grid_area": null,
            "grid_template_columns": null,
            "flex": null,
            "_model_name": "LayoutModel",
            "justify_items": null,
            "grid_row": null,
            "max_height": null,
            "align_content": null,
            "visibility": null,
            "align_self": null,
            "height": null,
            "min_height": null,
            "padding": null,
            "grid_auto_rows": null,
            "grid_gap": null,
            "max_width": null,
            "order": null,
            "_view_module_version": "1.2.0",
            "grid_template_areas": null,
            "object_position": null,
            "object_fit": null,
            "grid_auto_columns": null,
            "margin": null,
            "display": null,
            "left": null
          }
        },
        "d3a3aa74143e4efcab042b37632c3580": {
          "model_module": "@jupyter-widgets/controls",
          "model_name": "DescriptionStyleModel",
          "state": {
            "_view_name": "StyleView",
            "_model_name": "DescriptionStyleModel",
            "description_width": "",
            "_view_module": "@jupyter-widgets/base",
            "_model_module_version": "1.5.0",
            "_view_count": null,
            "_view_module_version": "1.2.0",
            "_model_module": "@jupyter-widgets/controls"
          }
        },
        "4b710febad3f46438f485e6264569fc8": {
          "model_module": "@jupyter-widgets/base",
          "model_name": "LayoutModel",
          "state": {
            "_view_name": "LayoutView",
            "grid_template_rows": null,
            "right": null,
            "justify_content": null,
            "_view_module": "@jupyter-widgets/base",
            "overflow": null,
            "_model_module_version": "1.2.0",
            "_view_count": null,
            "flex_flow": null,
            "width": null,
            "min_width": null,
            "border": null,
            "align_items": null,
            "bottom": null,
            "_model_module": "@jupyter-widgets/base",
            "top": null,
            "grid_column": null,
            "overflow_y": null,
            "overflow_x": null,
            "grid_auto_flow": null,
            "grid_area": null,
            "grid_template_columns": null,
            "flex": null,
            "_model_name": "LayoutModel",
            "justify_items": null,
            "grid_row": null,
            "max_height": null,
            "align_content": null,
            "visibility": null,
            "align_self": null,
            "height": null,
            "min_height": null,
            "padding": null,
            "grid_auto_rows": null,
            "grid_gap": null,
            "max_width": null,
            "order": null,
            "_view_module_version": "1.2.0",
            "grid_template_areas": null,
            "object_position": null,
            "object_fit": null,
            "grid_auto_columns": null,
            "margin": null,
            "display": null,
            "left": null
          }
        }
      }
    }
  },
  "cells": [
    {
      "cell_type": "markdown",
      "metadata": {
        "id": "Xwf8i2ls2xUL"
      },
      "source": [
        "## miary dystrybucyjne i typu wordnet"
      ]
    },
    {
      "cell_type": "markdown",
      "metadata": {
        "id": "K9tyYB-6uBEI"
      },
      "source": [
        "### importy\n"
      ]
    },
    {
      "cell_type": "code",
      "metadata": {
        "id": "CjZTVBW9ZbiC"
      },
      "source": [
        "import numpy as np\n",
        "import scipy as sc\n",
        "import scipy.spatial\n",
        "import os\n",
        "import pandas as pd\n",
        "from collections import OrderedDict\n",
        "from tqdm.notebook import tqdm\n",
        "import seaborn as sns"
      ],
      "execution_count": 6,
      "outputs": []
    },
    {
      "cell_type": "code",
      "metadata": {
        "id": "0Caitbgm2z_1"
      },
      "source": [
        "# from google.colab import drive\n",
        "# drive.mount('/content/gdrive')\n",
        "#https://keras.io/examples/nlp/pretrained_word_embeddings/\n",
        "# !wget http://nlp.stanford.edu/data/glove.6B.zip\n",
        "# !cp \"/content/gdrive/My Drive/datasets/glove.6B.zip\" .\n",
        "# !unzip -q glove.6B.zip"
      ],
      "execution_count": 7,
      "outputs": []
    },
    {
      "cell_type": "markdown",
      "metadata": {
        "id": "0si7_ZmJVbAZ"
      },
      "source": [
        "### pobranie danych\n"
      ]
    },
    {
      "cell_type": "code",
      "metadata": {
        "id": "iTfdPjPDugSu"
      },
      "source": [
        "#download the embeddings if not already there:\n",
        "if not os.path.exists('./nkjp+wiki-lemmas-all-100-cbow-hs.txt'):\n",
        "    if not os.path.exists('./nkjp+wiki-lemmas-all-100-cbow-hs.txt.gz'):\n",
        "        !wget http://dsmodels.nlp.ipipan.waw.pl/dsmodels/nkjp+wiki-lemmas-all-100-cbow-hs.txt.gz\n",
        "    !gzip -d nkjp+wiki-lemmas-all-100-cbow-hs.txt.gz\n",
        "# if not os.path.exists('./nkjp+wiki-forms-all-100-cbow-hs.txt'):\n",
        "#     if not os.path.exists('./nkjp+wiki-forms-all-100-cbow-hs.txt.gz'):\n",
        "#         !wget http://dsmodels.nlp.ipipan.waw.pl/dsmodels/nkjp+wiki-forms-all-100-cbow-hs.txt.gz\n",
        "#     !gzip -d nkjp+wiki-forms-all-100-cbow-hs.txt.gz\n",
        "# if not os.path.exists('./kgr10.plain.skipgram.dim100.neg10.vec'):\n",
        "#     !wget \"https://nextcloud.clarin-pl.eu/index.php/s/luubhnS0AvjmtQc/download?path=%2F&files=kgr10.plain.skipgram.dim100.neg10.vec\" -O kgr10.plain.skipgram.dim100.neg10.vec\n",
        "if not os.path.exists('./MSimLex999_Polish.txt'):\n",
        "    if not os.path.exists('./MSimLex999_Polish.zip'):\n",
        "        !wget \"http://zil.ipipan.waw.pl/CoDeS?action=AttachFile&do=get&target=MSimLex999_Polish.zip\" -O MSimLex999_Polish.zip\n",
        "    !unzip MSimLex999_Polish.zip"
      ],
      "execution_count": 8,
      "outputs": []
    },
    {
      "cell_type": "markdown",
      "metadata": {
        "id": "QFBnGHYtVjdZ"
      },
      "source": [
        "### komparatory ocen podobieństwa"
      ]
    },
    {
      "cell_type": "code",
      "metadata": {
        "id": "Vh8Ig2llAWzt"
      },
      "source": [
        "def levenshteinDistance(s1, s2): # unused\n",
        "    #https://stackoverflow.com/a/32558749\n",
        "    if len(s1) > len(s2):\n",
        "        s1, s2 = s2, s1\n",
        "\n",
        "    distances = range(len(s1) + 1)\n",
        "    for i2, c2 in enumerate(s2):\n",
        "        distances_ = [i2+1]\n",
        "        for i1, c1 in enumerate(s1):\n",
        "            if c1 == c2:\n",
        "                distances_.append(distances[i1])\n",
        "            else:\n",
        "                distances_.append(1 + min((distances[i1], distances[i1 + 1], distances_[-1])))\n",
        "        distances = distances_\n",
        "    return distances[-1]\n",
        "\n",
        "def HeuricticScoringMetric(s1, s2):\n",
        "    #s1, s2 must be sorted pandas.Series objects\n",
        "    s2_val = s2.iloc[0]\n",
        "    score = 0\n",
        "    for s1_idx, s1_val in s1.items():\n",
        "        s2_next_val = s2.loc[s1_idx]\n",
        "        if s2_next_val >= s2_val:\n",
        "            score += 1\n",
        "        s2_val = s2_next_val\n",
        "    return score"
      ],
      "execution_count": 9,
      "outputs": []
    },
    {
      "cell_type": "markdown",
      "metadata": {
        "id": "HbVsC4jkuHVK"
      },
      "source": [
        "### klasa licząca odległości/podobieństwa"
      ]
    },
    {
      "cell_type": "code",
      "metadata": {
        "id": "Fu2d_2N4l6lS"
      },
      "source": [
        "class DistanceCalculator():\n",
        "    def __init__(self,\n",
        "                #  filepaths_to_embeddings={'waw_embed':'nkjp+wiki-lemmas-all-100-cbow-hs.txt',\n",
        "                #                           'wro_embed':'kgr10.plain.skipgram.dim100.neg10.vec'},\n",
        "                 filepaths_to_embeddings={'embed':'nkjp+wiki-lemmas-all-100-cbow-hs.txt'},\n",
        "                 wordnet_parameter_1=None,\n",
        "                 wordnet_parameter_2=None,\n",
        "                 ):\n",
        "        self.embeddings_dicts = {\n",
        "            key:self.embedings_from_file(path)\n",
        "            for key, path in filepaths_to_embeddings.items()\n",
        "        }\n",
        "\n",
        "    def simlex_eval(self, simlex_path='MSimLex999_Polish.txt'):\n",
        "        simlex_pl = pd.read_csv(simlex_path, sep='\\t', index_col='idx',\n",
        "                                names=['idx','word1','word2','similarity','relatedness'])\n",
        "        dostances = []\n",
        "        indexes = []\n",
        "        for i, row in simlex_pl.iterrows():\n",
        "            try:\n",
        "                d = dc.calculate_distances(row.word1, row.word2)\n",
        "            except KeyError:\n",
        "                print(f'info: one of keys ({row.word1}, {row.word2}) not found in dictionary')\n",
        "                continue\n",
        "            dostances.append(d)\n",
        "            indexes.append(i)\n",
        "        dostances = pd.DataFrame(dostances)\n",
        "        dostances.set_index(pd.Index(indexes, name='idx'))\n",
        "        self.simlex_pl = simlex_pl.merge(dostances, left_index=True, right_index=True)\n",
        "        return self.list_distances(self.simlex_pl.drop(columns=['word1','word2']))\n",
        "\n",
        "    def list_distances(self, pd_metrics):\n",
        "        #levenshteinDistance:\n",
        "        M = len(pd_metrics.columns)\n",
        "        score_matrix = [[None]*M for i in range(M)]\n",
        "        for i, c1 in enumerate(pd_metrics.columns):\n",
        "            for j, c2 in enumerate(pd_metrics.columns):\n",
        "                score_matrix[i][j] = HeuricticScoringMetric(pd_metrics[c1].sort_values(), \n",
        "                                                            pd_metrics[c2].sort_values())\n",
        "        return pd.DataFrame(score_matrix, index=pd_metrics.columns, columns=pd_metrics.columns)\n",
        "\n",
        "    def embedings_from_file(self, path):\n",
        "        embeddings = {}\n",
        "        print(f'reading file {path} ...')\n",
        "        with open(path) as f:\n",
        "            for line in tqdm(f):\n",
        "                word, coefs = line.split(maxsplit=1)\n",
        "                coefs = np.fromstring(coefs, \"f\", sep=\" \")\n",
        "                embeddings[word] = coefs\n",
        "        return embeddings\n",
        "\n",
        "    def cosine_similarity(self, wordA, wordB, embeddings):\n",
        "        return sc.spatial.distance.cosine(embeddings[wordA], embeddings[wordB])\n",
        "\n",
        "    def l2_similarity(self, wordA, wordB, embeddings):\n",
        "        return np.linalg.norm(embeddings[wordA] - embeddings[wordB])\n",
        "\n",
        "    def distribution_distances(self, wordA, wordB):\n",
        "        result = {}\n",
        "        for dictionary_name, embeddings in self.embeddings_dicts.items():\n",
        "            result.update({\n",
        "                f'cosine_distance_{dictionary_name}': self.cosine_similarity(wordA, wordB, embeddings),\n",
        "                f'euclidean_distance_{dictionary_name}': self.l2_similarity(wordA, wordB, embeddings),\n",
        "            })\n",
        "        return result\n",
        "\n",
        "    def wordnet_distances(self, wordA, wordB):\n",
        "        result = {}\n",
        "        pass #TODO\n",
        "        return result\n",
        "\n",
        "    def calculate_distances(self, wordA, wordB):\n",
        "        result = {}\n",
        "        result.update(self.distribution_distances(wordA, wordB))\n",
        "        result.update(self.wordnet_distances(wordA, wordB))\n",
        "        return result\n",
        "\n",
        "    def get_K_closest_to_wordA_from_list(self, wordA, list_of_words, K=5):\n",
        "        results = {}\n",
        "        for wordB in list_of_words:\n",
        "            try:\n",
        "                distances = self.calculate_distances(wordA, wordB)\n",
        "            except KeyError:\n",
        "                print(f'info: one of keys ({wordA}, {wordB}) not found in dictionary')\n",
        "                continue\n",
        "            results[wordB] = distances\n",
        "        pd_results = pd.DataFrame(results).T\n",
        "        result = {}\n",
        "        for metric, all_distances in pd_results.items():\n",
        "            result[metric] = all_distances.sort_values()[:K].to_dict(into=OrderedDict)\n",
        "        return result"
      ],
      "execution_count": 38,
      "outputs": []
    },
    {
      "cell_type": "markdown",
      "metadata": {
        "id": "SG0Zt41kUor1"
      },
      "source": [
        "## obserwacje"
      ]
    },
    {
      "cell_type": "code",
      "metadata": {
        "colab": {
          "base_uri": "https://localhost:8080/",
          "height": 84,
          "referenced_widgets": [
            "7fd5c22b0e994fe7af2528638cec50bd",
            "733f9a55fbd3444b971d1fd0b3e18143",
            "83e579882a9d4628a62257dd7025d2fb",
            "a4d002e6a0a442e19f67d5b10a094c7e",
            "05061f857b3b4f85b44f7e42b451591a",
            "b7aba2e892c4457a8ee5201e115b0e65",
            "d3a3aa74143e4efcab042b37632c3580",
            "4b710febad3f46438f485e6264569fc8"
          ]
        },
        "id": "oBlmBH15yqoC",
        "outputId": "e46bdac6-d5f5-42fd-eb75-186a2a785270"
      },
      "source": [
        "dc = DistanceCalculator()"
      ],
      "execution_count": 39,
      "outputs": [
        {
          "output_type": "stream",
          "text": [
            "reading file nkjp+wiki-lemmas-all-100-cbow-hs.txt ...\n"
          ],
          "name": "stdout"
        },
        {
          "output_type": "display_data",
          "data": {
            "application/vnd.jupyter.widget-view+json": {
              "model_id": "7fd5c22b0e994fe7af2528638cec50bd",
              "version_minor": 0,
              "version_major": 2
            },
            "text/plain": [
              "HBox(children=(FloatProgress(value=1.0, bar_style='info', max=1.0), HTML(value='')))"
            ]
          },
          "metadata": {
            "tags": []
          }
        },
        {
          "output_type": "stream",
          "text": [
            "\n"
          ],
          "name": "stdout"
        }
      ]
    },
    {
      "cell_type": "code",
      "metadata": {
        "colab": {
          "base_uri": "https://localhost:8080/"
        },
        "id": "uFhaiCQFzDKd",
        "outputId": "bf74446a-595a-4028-9a7d-94b8d42cbcd5"
      },
      "source": [
        "dc.calculate_distances('kot','pies')"
      ],
      "execution_count": 29,
      "outputs": [
        {
          "output_type": "execute_result",
          "data": {
            "text/plain": [
              "{'cosine_distance_embed': 0.15627360343933105,\n",
              " 'euclidean_distance_embed': 8.467666}"
            ]
          },
          "metadata": {
            "tags": []
          },
          "execution_count": 29
        }
      ]
    },
    {
      "cell_type": "code",
      "metadata": {
        "colab": {
          "base_uri": "https://localhost:8080/"
        },
        "id": "ASPZ-2Ot6ciI",
        "outputId": "8a5e9f7c-dcb1-4d84-d59b-aeea314fc1ce"
      },
      "source": [
        "dc.calculate_distances('kot','lodówka')"
      ],
      "execution_count": 30,
      "outputs": [
        {
          "output_type": "execute_result",
          "data": {
            "text/plain": [
              "{'cosine_distance_embed': 0.6711545884609222,\n",
              " 'euclidean_distance_embed': 17.376816}"
            ]
          },
          "metadata": {
            "tags": []
          },
          "execution_count": 30
        }
      ]
    },
    {
      "cell_type": "code",
      "metadata": {
        "colab": {
          "base_uri": "https://localhost:8080/"
        },
        "id": "bBzKbArQ7Que",
        "outputId": "be3eb759-aee1-47fc-fd79-a6baa6224358"
      },
      "source": [
        "dc.calculate_distances('pływać','różowy')"
      ],
      "execution_count": 31,
      "outputs": [
        {
          "output_type": "execute_result",
          "data": {
            "text/plain": [
              "{'cosine_distance_embed': 0.8321841508150101,\n",
              " 'euclidean_distance_embed': 19.901152}"
            ]
          },
          "metadata": {
            "tags": []
          },
          "execution_count": 31
        }
      ]
    },
    {
      "cell_type": "code",
      "metadata": {
        "colab": {
          "base_uri": "https://localhost:8080/",
          "height": 737
        },
        "id": "ppd7IDQCK2Tr",
        "outputId": "9db9a20d-5cfe-46ed-a25e-0a33952de804"
      },
      "source": [
        "most_simillar_metrics = dc.simlex_eval('MSimLex999_Polish.txt')\n",
        "sns.heatmap(most_simillar_metrics, annot=True).set(title='scoring similatity (heuristic)');"
      ],
      "execution_count": 32,
      "outputs": [
        {
          "output_type": "stream",
          "text": [
            "info: one of keys (przestraszony, zalękniony) not found in dictionary\n",
            "info: one of keys (obładowany, ciężki) not found in dictionary\n",
            "info: one of keys (głupi , rzadki) not found in dictionary\n",
            "info: one of keys (pieniądze, pensja) not found in dictionary\n",
            "info: one of keys (łódź, kotwica) not found in dictionary\n",
            "info: one of keys (łódź, pokład) not found in dictionary\n",
            "info: one of keys (ubrania, szuflada) not found in dictionary\n",
            "info: one of keys (pieniądze, kapitał) not found in dictionary\n",
            "info: one of keys (łódź, samochód) not found in dictionary\n",
            "info: one of keys (dąb , klon) not found in dictionary\n",
            "info: one of keys (nasiona, musztarda) not found in dictionary\n",
            "info: one of keys (silnik, łódź) not found in dictionary\n",
            "info: one of keys (mężczyźni, bractwo) not found in dictionary\n",
            "info: one of keys (mieszkanie, meble) not found in dictionary\n",
            "info: one of keys (populacja, ludzie) not found in dictionary\n",
            "info: one of keys (ludzie, cent) not found in dictionary\n",
            "info: one of keys (ludzie, pistolet) not found in dictionary\n",
            "info: one of keys (ludzie, balon) not found in dictionary\n",
            "info: one of keys (dolar, ludzie) not found in dictionary\n"
          ],
          "name": "stdout"
        },
        {
          "output_type": "display_data",
          "data": {
            "image/png": "[encoded data removed]",
            "text/plain": [
              "<Figure size 432x288 with 2 Axes>"
            ]
          },
          "metadata": {
            "tags": [],
            "needs_background": "light"
          }
        }
      ]
    },
    {
      "cell_type": "code",
      "metadata": {
        "id": "9_e7yACyVCHL"
      },
      "source": [
        "setA = !awk '{print $2}' MSimLex999_Polish.txt\n",
        "setB = !awk '{print $3}' MSimLex999_Polish.txt\n",
        "tiny_corpus = set(setA) | set(setB)"
      ],
      "execution_count": 33,
      "outputs": []
    },
    {
      "cell_type": "code",
      "metadata": {
        "colab": {
          "base_uri": "https://localhost:8080/"
        },
        "id": "IdYD8BdSWfnC",
        "outputId": "31234a7e-24eb-4988-e427-25d67d6b876a"
      },
      "source": [
        "dc.get_K_closest_to_wordA_from_list('bystry', tiny_corpus, K=10)"
      ],
      "execution_count": 40,
      "outputs": [
        {
          "output_type": "stream",
          "text": [
            "info: one of keys (bystry, przestraszony) not found in dictionary\n",
            "info: one of keys (bystry, meble) not found in dictionary\n",
            "info: one of keys (bystry, obładowany) not found in dictionary\n",
            "info: one of keys (bystry, mężczyźni) not found in dictionary\n",
            "info: one of keys (bystry, pieniądze) not found in dictionary\n",
            "info: one of keys (bystry, nasiona) not found in dictionary\n",
            "info: one of keys (bystry, ubrania) not found in dictionary\n",
            "info: one of keys (bystry, ludzie) not found in dictionary\n",
            "info: one of keys (bystry, łódź) not found in dictionary\n"
          ],
          "name": "stdout"
        },
        {
          "output_type": "execute_result",
          "data": {
            "text/plain": [
              "{'cosine_distance_embed': OrderedDict([('bystry', 0.0),\n",
              "              ('chłopiec', 0.6090092957019806),\n",
              "              ('usposobienie', 0.6341421008110046),\n",
              "              ('gniewny', 0.644877701997757),\n",
              "              ('zalękniony', 0.6508411467075348),\n",
              "              ('pogoda', 0.6550817787647247),\n",
              "              ('chłopak', 0.6673302054405212),\n",
              "              ('dziewczyna', 0.6772406697273254),\n",
              "              ('szałas', 0.7002425193786621),\n",
              "              ('opowieść', 0.7058223783969879)]),\n",
              " 'euclidean_distance_embed': OrderedDict([('bystry', 0.0),\n",
              "              ('spowiedż', 14.164617538452148),\n",
              "              ('zalękniony', 14.839924812316895),\n",
              "              ('koncept', 15.128437995910645),\n",
              "              ('ogar', 15.193888664245605),\n",
              "              ('zgraja', 15.26916217803955),\n",
              "              ('głupol', 15.381369590759277),\n",
              "              ('gin', 15.476540565490723),\n",
              "              ('wielkoduszny', 15.702993392944336),\n",
              "              ('prędki', 15.719139099121094)])}"
            ]
          },
          "metadata": {
            "tags": []
          },
          "execution_count": 40
        }
      ]
    }
  ]
}